{
 "cells": [
  {
   "cell_type": "markdown",
   "metadata": {},
   "source": [
    "# 4.その他の制御フローツール "
   ]
  },
  {
   "cell_type": "markdown",
   "metadata": {},
   "source": [
    "## 4.1. if文"
   ]
  },
  {
   "cell_type": "code",
   "execution_count": 1,
   "metadata": {},
   "outputs": [
    {
     "name": "stdout",
     "output_type": "stream",
     "text": [
      "整数を入力してください: 12\n"
     ]
    }
   ],
   "source": [
    "x = int(input(\"整数を入力してください: \")) #入力フォーム → xに値を入れる"
   ]
  },
  {
   "cell_type": "code",
   "execution_count": 5,
   "metadata": {},
   "outputs": [
    {
     "name": "stdout",
     "output_type": "stream",
     "text": [
      "それ以外です。\n"
     ]
    }
   ],
   "source": [
    "if x < 0: #ｘが0より小さい場合\n",
    "    x = 0\n",
    "    print(\"マイナスの値です。\")\n",
    "elif x == 0: # ｘが0だった場合　elif…(else ifの短縮形)\n",
    "    print (\"ゼロです。\")\n",
    "elif x == 1: # xが1だった場合\n",
    "    print(\"１です。\")\n",
    "else:\n",
    "    print(\"それ以外です。\")"
   ]
  },
  {
   "cell_type": "markdown",
   "metadata": {},
   "source": [
    "↑のif文に関してインデント(タブ)を整列しないとエラーとなるので注意  \n",
    "※if文の終わりにはしっかりとインデント(タブ)を閉じること"
   ]
  },
  {
   "cell_type": "markdown",
   "metadata": {},
   "source": [
    "## 4.2. for文 "
   ]
  },
  {
   "cell_type": "markdown",
   "metadata": {},
   "source": [
    "Pythonのfor文は、C言語やPascal言語で使い慣れているかもしれないfor文とは少し違います。　　\n",
    "Pascal言語のように常に算術型の数列にわたる反復を行ったり、  \n",
    "C言語のように繰り返しステップと停止条件を両方ともユーザが定義できるとうにするのとは違い  \n",
    "Pythonのfor文は、任意のシーケンス型(リストまたは文字列)にわたった反復を行います。  \n",
    "反復の順番はシーケンス中に要素が現れる順番です"
   ]
  },
  {
   "cell_type": "code",
   "execution_count": 12,
   "metadata": {},
   "outputs": [
    {
     "name": "stdout",
     "output_type": "stream",
     "text": [
      "cat 3\n",
      "window 6\n",
      "defenestrate 12\n"
     ]
    }
   ],
   "source": [
    "#いくつかの文字列を測定してみます。\n",
    "words = ['cat', 'window', 'defenestrate']\n",
    "for w in words: #wにwordsの文字列をそれぞれ代入する\n",
    "    print(w, len(w)) #代入したwにある文字列とその文字数を表示する"
   ]
  },
  {
   "cell_type": "code",
   "execution_count": null,
   "metadata": {},
   "outputs": [],
   "source": []
  }
 ],
 "metadata": {
  "kernelspec": {
   "display_name": "Python 3",
   "language": "python",
   "name": "python3"
  },
  "language_info": {
   "codemirror_mode": {
    "name": "ipython",
    "version": 3
   },
   "file_extension": ".py",
   "mimetype": "text/x-python",
   "name": "python",
   "nbconvert_exporter": "python",
   "pygments_lexer": "ipython3",
   "version": "3.6.5"
  }
 },
 "nbformat": 4,
 "nbformat_minor": 2
}
